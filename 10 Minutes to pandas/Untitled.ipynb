{
 "cells": [
  {
   "cell_type": "markdown",
   "metadata": {},
   "source": [
    "# pandas and numpy"
   ]
  },
  {
   "cell_type": "code",
   "execution_count": 3,
   "metadata": {},
   "outputs": [],
   "source": [
    "# Customarily, we import as follows:\n",
    "import pandas as pd\n",
    "import numpy as np\n",
    "import matplotlib.pyplot as plt"
   ]
  },
  {
   "cell_type": "markdown",
   "metadata": {},
   "source": [
    "## Objetc Creation"
   ]
  },
  {
   "cell_type": "code",
   "execution_count": 14,
   "metadata": {},
   "outputs": [
    {
     "data": {
      "text/plain": [
       "0    1.0\n",
       "1    3.0\n",
       "2    5.0\n",
       "3    NaN\n",
       "4    7.0\n",
       "5    9.0\n",
       "dtype: float64"
      ]
     },
     "execution_count": 14,
     "metadata": {},
     "output_type": "execute_result"
    }
   ],
   "source": [
    "# Creating a Series by passing a list of values, letting pandas create a default integer index:\n",
    "s = pd.Series([1,3,5,np.nan,7,9])\n",
    "s"
   ]
  },
  {
   "cell_type": "code",
   "execution_count": 16,
   "metadata": {},
   "outputs": [
    {
     "data": {
      "text/plain": [
       "DatetimeIndex(['2015-10-11', '2015-10-12', '2015-10-13', '2015-10-14',\n",
       "               '2015-10-15', '2015-10-16', '2015-10-17'],\n",
       "              dtype='datetime64[ns]', freq='D')"
      ]
     },
     "execution_count": 16,
     "metadata": {},
     "output_type": "execute_result"
    }
   ],
   "source": [
    "# Creating a DataFrame by passing a numpy array, with a datetime index and labeled columns:\n",
    "dates = pd.date_range('20151011', periods=7)\n",
    "dates"
   ]
  },
  {
   "cell_type": "code",
   "execution_count": 21,
   "metadata": {},
   "outputs": [
    {
     "data": {
      "text/html": [
       "<div>\n",
       "<style scoped>\n",
       "    .dataframe tbody tr th:only-of-type {\n",
       "        vertical-align: middle;\n",
       "    }\n",
       "\n",
       "    .dataframe tbody tr th {\n",
       "        vertical-align: top;\n",
       "    }\n",
       "\n",
       "    .dataframe thead th {\n",
       "        text-align: right;\n",
       "    }\n",
       "</style>\n",
       "<table border=\"1\" class=\"dataframe\">\n",
       "  <thead>\n",
       "    <tr style=\"text-align: right;\">\n",
       "      <th></th>\n",
       "      <th>Q</th>\n",
       "      <th>W</th>\n",
       "      <th>E</th>\n",
       "      <th>R</th>\n",
       "      <th>T</th>\n",
       "      <th>Y</th>\n",
       "    </tr>\n",
       "  </thead>\n",
       "  <tbody>\n",
       "    <tr>\n",
       "      <th>2015-10-11</th>\n",
       "      <td>1.848389</td>\n",
       "      <td>0.203470</td>\n",
       "      <td>-0.964987</td>\n",
       "      <td>1.679127</td>\n",
       "      <td>0.366751</td>\n",
       "      <td>-1.752698</td>\n",
       "    </tr>\n",
       "    <tr>\n",
       "      <th>2015-10-12</th>\n",
       "      <td>-1.726446</td>\n",
       "      <td>0.425225</td>\n",
       "      <td>-0.489592</td>\n",
       "      <td>-1.534426</td>\n",
       "      <td>-1.020679</td>\n",
       "      <td>-0.786877</td>\n",
       "    </tr>\n",
       "    <tr>\n",
       "      <th>2015-10-13</th>\n",
       "      <td>-0.830261</td>\n",
       "      <td>-0.040947</td>\n",
       "      <td>0.401995</td>\n",
       "      <td>0.952608</td>\n",
       "      <td>0.238167</td>\n",
       "      <td>-0.718206</td>\n",
       "    </tr>\n",
       "    <tr>\n",
       "      <th>2015-10-14</th>\n",
       "      <td>0.851889</td>\n",
       "      <td>-1.067238</td>\n",
       "      <td>-1.841667</td>\n",
       "      <td>0.548018</td>\n",
       "      <td>1.422651</td>\n",
       "      <td>0.066202</td>\n",
       "    </tr>\n",
       "    <tr>\n",
       "      <th>2015-10-15</th>\n",
       "      <td>0.573465</td>\n",
       "      <td>1.321249</td>\n",
       "      <td>-0.779436</td>\n",
       "      <td>-0.053071</td>\n",
       "      <td>0.380662</td>\n",
       "      <td>0.023725</td>\n",
       "    </tr>\n",
       "    <tr>\n",
       "      <th>2015-10-16</th>\n",
       "      <td>0.939105</td>\n",
       "      <td>-1.819067</td>\n",
       "      <td>0.914857</td>\n",
       "      <td>-1.312940</td>\n",
       "      <td>-0.899468</td>\n",
       "      <td>0.551938</td>\n",
       "    </tr>\n",
       "    <tr>\n",
       "      <th>2015-10-17</th>\n",
       "      <td>-0.346971</td>\n",
       "      <td>0.432481</td>\n",
       "      <td>-0.380894</td>\n",
       "      <td>0.197318</td>\n",
       "      <td>-0.083637</td>\n",
       "      <td>-0.698556</td>\n",
       "    </tr>\n",
       "  </tbody>\n",
       "</table>\n",
       "</div>"
      ],
      "text/plain": [
       "                   Q         W         E         R         T         Y\n",
       "2015-10-11  1.848389  0.203470 -0.964987  1.679127  0.366751 -1.752698\n",
       "2015-10-12 -1.726446  0.425225 -0.489592 -1.534426 -1.020679 -0.786877\n",
       "2015-10-13 -0.830261 -0.040947  0.401995  0.952608  0.238167 -0.718206\n",
       "2015-10-14  0.851889 -1.067238 -1.841667  0.548018  1.422651  0.066202\n",
       "2015-10-15  0.573465  1.321249 -0.779436 -0.053071  0.380662  0.023725\n",
       "2015-10-16  0.939105 -1.819067  0.914857 -1.312940 -0.899468  0.551938\n",
       "2015-10-17 -0.346971  0.432481 -0.380894  0.197318 -0.083637 -0.698556"
      ]
     },
     "execution_count": 21,
     "metadata": {},
     "output_type": "execute_result"
    }
   ],
   "source": [
    "# Creating a DataFrame by passing a numpy array, with a datetime index and labeled columns:\n",
    "df = pd.DataFrame(np.random.randn(7,6), index=dates, columns=list('QWERTY'))\n",
    "df"
   ]
  },
  {
   "cell_type": "code",
   "execution_count": 25,
   "metadata": {},
   "outputs": [
    {
     "data": {
      "text/html": [
       "<div>\n",
       "<style scoped>\n",
       "    .dataframe tbody tr th:only-of-type {\n",
       "        vertical-align: middle;\n",
       "    }\n",
       "\n",
       "    .dataframe tbody tr th {\n",
       "        vertical-align: top;\n",
       "    }\n",
       "\n",
       "    .dataframe thead th {\n",
       "        text-align: right;\n",
       "    }\n",
       "</style>\n",
       "<table border=\"1\" class=\"dataframe\">\n",
       "  <thead>\n",
       "    <tr style=\"text-align: right;\">\n",
       "      <th></th>\n",
       "      <th>A</th>\n",
       "      <th>B</th>\n",
       "      <th>C</th>\n",
       "      <th>D</th>\n",
       "      <th>E</th>\n",
       "      <th>F</th>\n",
       "    </tr>\n",
       "  </thead>\n",
       "  <tbody>\n",
       "    <tr>\n",
       "      <th>0</th>\n",
       "      <td>1.0</td>\n",
       "      <td>2015-10-11</td>\n",
       "      <td>1.0</td>\n",
       "      <td>3</td>\n",
       "      <td>test</td>\n",
       "      <td>neo</td>\n",
       "    </tr>\n",
       "    <tr>\n",
       "      <th>1</th>\n",
       "      <td>1.0</td>\n",
       "      <td>2015-10-11</td>\n",
       "      <td>1.0</td>\n",
       "      <td>3</td>\n",
       "      <td>train</td>\n",
       "      <td>neo</td>\n",
       "    </tr>\n",
       "    <tr>\n",
       "      <th>2</th>\n",
       "      <td>1.0</td>\n",
       "      <td>2015-10-11</td>\n",
       "      <td>1.0</td>\n",
       "      <td>3</td>\n",
       "      <td>test</td>\n",
       "      <td>neo</td>\n",
       "    </tr>\n",
       "    <tr>\n",
       "      <th>3</th>\n",
       "      <td>1.0</td>\n",
       "      <td>2015-10-11</td>\n",
       "      <td>1.0</td>\n",
       "      <td>3</td>\n",
       "      <td>train</td>\n",
       "      <td>neo</td>\n",
       "    </tr>\n",
       "  </tbody>\n",
       "</table>\n",
       "</div>"
      ],
      "text/plain": [
       "     A          B    C  D      E    F\n",
       "0  1.0 2015-10-11  1.0  3   test  neo\n",
       "1  1.0 2015-10-11  1.0  3  train  neo\n",
       "2  1.0 2015-10-11  1.0  3   test  neo\n",
       "3  1.0 2015-10-11  1.0  3  train  neo"
      ]
     },
     "execution_count": 25,
     "metadata": {},
     "output_type": "execute_result"
    }
   ],
   "source": [
    "# Creating a DataFrame by passing a dict of objects that can be converted to series-like.\n",
    "df2 = pd.DataFrame({  'A' : 1.,\n",
    "                      'B' : pd.Timestamp('20151011'),\n",
    "                      'C' : pd.Series(1,index=list(range(4)),dtype='float32'),\n",
    "                      'D' : np.array([3] * 4,dtype='int32'),\n",
    "                      'E' : pd.Categorical([\"test\",\"train\",\"test\",\"train\"]),\n",
    "                      'F' : 'neo'})\n",
    "df2"
   ]
  },
  {
   "cell_type": "code",
   "execution_count": 26,
   "metadata": {},
   "outputs": [
    {
     "data": {
      "text/plain": [
       "A           float64\n",
       "B    datetime64[ns]\n",
       "C           float32\n",
       "D             int32\n",
       "E          category\n",
       "F            object\n",
       "dtype: object"
      ]
     },
     "execution_count": 26,
     "metadata": {},
     "output_type": "execute_result"
    }
   ],
   "source": [
    "# Having specific dtypes\n",
    "df2.dtypes"
   ]
  },
  {
   "cell_type": "code",
   "execution_count": 41,
   "metadata": {},
   "outputs": [
    {
     "data": {
      "text/plain": [
       "<bound method NDFrame.consolidate of      A          B    C  D      E    F\n",
       "0  1.0 2015-10-11  1.0  3   test  neo\n",
       "1  1.0 2015-10-11  1.0  3  train  neo\n",
       "2  1.0 2015-10-11  1.0  3   test  neo\n",
       "3  1.0 2015-10-11  1.0  3  train  neo>"
      ]
     },
     "execution_count": 41,
     "metadata": {},
     "output_type": "execute_result"
    }
   ],
   "source": [
    "# If you’re using IPython, tab completion for column names (as well as public attributes) is automatically enabled.\n",
    "# Here’s a subset of the attributes that will be completed:\n",
    "#df2.A                  df2.boxplot\n",
    "#df2.abs                df2.C\n",
    "#df2.add                df2.clip\n",
    "#df2.add_prefix         df2.clip_lower\n",
    "#df2.add_suffix         df2.clip_upper\n",
    "#df2.align              df2.columns\n",
    "#df2.all                df2.combine\n",
    "#df2.any                df2.combineAdd\n",
    "#df2.append             df2.combine_first\n",
    "#df2.apply              df2.combineMult\n",
    "#df2.applymap           df2.compound\n",
    "#df2.as_blocks          df2.consolidate\n",
    "#df2.asfreq             df2.convert_objects\n",
    "#df2.as_matrix          df2.copy\n",
    "#df2.astype             df2.corr\n",
    "#df2.at                 df2.corrwith\n",
    "#df2.at_time            df2.count\n",
    "#df2.axes               df2.cov\n",
    "#df2.B                  df2.cummax\n",
    "#df2.between_time       df2.cummin\n",
    "#df2.bfill              df2.cumprod\n",
    "#df2.blocks             df2.cumsum\n",
    "#df2.bool               df2.D\n",
    "df2.consolidate"
   ]
  },
  {
   "cell_type": "markdown",
   "metadata": {},
   "source": [
    "## Viewing Data "
   ]
  },
  {
   "cell_type": "code",
   "execution_count": 50,
   "metadata": {},
   "outputs": [
    {
     "data": {
      "text/html": [
       "<div>\n",
       "<style scoped>\n",
       "    .dataframe tbody tr th:only-of-type {\n",
       "        vertical-align: middle;\n",
       "    }\n",
       "\n",
       "    .dataframe tbody tr th {\n",
       "        vertical-align: top;\n",
       "    }\n",
       "\n",
       "    .dataframe thead th {\n",
       "        text-align: right;\n",
       "    }\n",
       "</style>\n",
       "<table border=\"1\" class=\"dataframe\">\n",
       "  <thead>\n",
       "    <tr style=\"text-align: right;\">\n",
       "      <th></th>\n",
       "      <th>Q</th>\n",
       "      <th>W</th>\n",
       "      <th>E</th>\n",
       "      <th>R</th>\n",
       "      <th>T</th>\n",
       "      <th>Y</th>\n",
       "    </tr>\n",
       "  </thead>\n",
       "  <tbody>\n",
       "    <tr>\n",
       "      <th>2015-10-11</th>\n",
       "      <td>1.848389</td>\n",
       "      <td>0.203470</td>\n",
       "      <td>-0.964987</td>\n",
       "      <td>1.679127</td>\n",
       "      <td>0.366751</td>\n",
       "      <td>-1.752698</td>\n",
       "    </tr>\n",
       "    <tr>\n",
       "      <th>2015-10-12</th>\n",
       "      <td>-1.726446</td>\n",
       "      <td>0.425225</td>\n",
       "      <td>-0.489592</td>\n",
       "      <td>-1.534426</td>\n",
       "      <td>-1.020679</td>\n",
       "      <td>-0.786877</td>\n",
       "    </tr>\n",
       "    <tr>\n",
       "      <th>2015-10-13</th>\n",
       "      <td>-0.830261</td>\n",
       "      <td>-0.040947</td>\n",
       "      <td>0.401995</td>\n",
       "      <td>0.952608</td>\n",
       "      <td>0.238167</td>\n",
       "      <td>-0.718206</td>\n",
       "    </tr>\n",
       "    <tr>\n",
       "      <th>2015-10-14</th>\n",
       "      <td>0.851889</td>\n",
       "      <td>-1.067238</td>\n",
       "      <td>-1.841667</td>\n",
       "      <td>0.548018</td>\n",
       "      <td>1.422651</td>\n",
       "      <td>0.066202</td>\n",
       "    </tr>\n",
       "    <tr>\n",
       "      <th>2015-10-15</th>\n",
       "      <td>0.573465</td>\n",
       "      <td>1.321249</td>\n",
       "      <td>-0.779436</td>\n",
       "      <td>-0.053071</td>\n",
       "      <td>0.380662</td>\n",
       "      <td>0.023725</td>\n",
       "    </tr>\n",
       "  </tbody>\n",
       "</table>\n",
       "</div>"
      ],
      "text/plain": [
       "                   Q         W         E         R         T         Y\n",
       "2015-10-11  1.848389  0.203470 -0.964987  1.679127  0.366751 -1.752698\n",
       "2015-10-12 -1.726446  0.425225 -0.489592 -1.534426 -1.020679 -0.786877\n",
       "2015-10-13 -0.830261 -0.040947  0.401995  0.952608  0.238167 -0.718206\n",
       "2015-10-14  0.851889 -1.067238 -1.841667  0.548018  1.422651  0.066202\n",
       "2015-10-15  0.573465  1.321249 -0.779436 -0.053071  0.380662  0.023725"
      ]
     },
     "execution_count": 50,
     "metadata": {},
     "output_type": "execute_result"
    }
   ],
   "source": [
    "# See the Basics section\n",
    "# See the top & bottom rows of the frame\n",
    "df.head()"
   ]
  },
  {
   "cell_type": "code",
   "execution_count": 44,
   "metadata": {},
   "outputs": [
    {
     "data": {
      "text/html": [
       "<div>\n",
       "<style scoped>\n",
       "    .dataframe tbody tr th:only-of-type {\n",
       "        vertical-align: middle;\n",
       "    }\n",
       "\n",
       "    .dataframe tbody tr th {\n",
       "        vertical-align: top;\n",
       "    }\n",
       "\n",
       "    .dataframe thead th {\n",
       "        text-align: right;\n",
       "    }\n",
       "</style>\n",
       "<table border=\"1\" class=\"dataframe\">\n",
       "  <thead>\n",
       "    <tr style=\"text-align: right;\">\n",
       "      <th></th>\n",
       "      <th>Q</th>\n",
       "      <th>W</th>\n",
       "      <th>E</th>\n",
       "      <th>R</th>\n",
       "      <th>T</th>\n",
       "      <th>Y</th>\n",
       "    </tr>\n",
       "  </thead>\n",
       "  <tbody>\n",
       "    <tr>\n",
       "      <th>2015-10-15</th>\n",
       "      <td>0.573465</td>\n",
       "      <td>1.321249</td>\n",
       "      <td>-0.779436</td>\n",
       "      <td>-0.053071</td>\n",
       "      <td>0.380662</td>\n",
       "      <td>0.023725</td>\n",
       "    </tr>\n",
       "    <tr>\n",
       "      <th>2015-10-16</th>\n",
       "      <td>0.939105</td>\n",
       "      <td>-1.819067</td>\n",
       "      <td>0.914857</td>\n",
       "      <td>-1.312940</td>\n",
       "      <td>-0.899468</td>\n",
       "      <td>0.551938</td>\n",
       "    </tr>\n",
       "    <tr>\n",
       "      <th>2015-10-17</th>\n",
       "      <td>-0.346971</td>\n",
       "      <td>0.432481</td>\n",
       "      <td>-0.380894</td>\n",
       "      <td>0.197318</td>\n",
       "      <td>-0.083637</td>\n",
       "      <td>-0.698556</td>\n",
       "    </tr>\n",
       "  </tbody>\n",
       "</table>\n",
       "</div>"
      ],
      "text/plain": [
       "                   Q         W         E         R         T         Y\n",
       "2015-10-15  0.573465  1.321249 -0.779436 -0.053071  0.380662  0.023725\n",
       "2015-10-16  0.939105 -1.819067  0.914857 -1.312940 -0.899468  0.551938\n",
       "2015-10-17 -0.346971  0.432481 -0.380894  0.197318 -0.083637 -0.698556"
      ]
     },
     "execution_count": 44,
     "metadata": {},
     "output_type": "execute_result"
    }
   ],
   "source": [
    "df.tail(3)"
   ]
  },
  {
   "cell_type": "code",
   "execution_count": 45,
   "metadata": {},
   "outputs": [
    {
     "data": {
      "text/plain": [
       "DatetimeIndex(['2015-10-11', '2015-10-12', '2015-10-13', '2015-10-14',\n",
       "               '2015-10-15', '2015-10-16', '2015-10-17'],\n",
       "              dtype='datetime64[ns]', freq='D')"
      ]
     },
     "execution_count": 45,
     "metadata": {},
     "output_type": "execute_result"
    }
   ],
   "source": [
    "df.index"
   ]
  },
  {
   "cell_type": "code",
   "execution_count": 49,
   "metadata": {},
   "outputs": [
    {
     "data": {
      "text/plain": [
       "Index(['Q', 'W', 'E', 'R', 'T', 'Y'], dtype='object')"
      ]
     },
     "execution_count": 49,
     "metadata": {},
     "output_type": "execute_result"
    }
   ],
   "source": [
    "# Display the index, columns, and the underlying numpy data\n",
    "df.columns"
   ]
  },
  {
   "cell_type": "code",
   "execution_count": 48,
   "metadata": {},
   "outputs": [
    {
     "data": {
      "text/plain": [
       "array([[ 1.84838856,  0.20347041, -0.9649872 ,  1.67912702,  0.36675084,\n",
       "        -1.75269762],\n",
       "       [-1.72644572,  0.42522542, -0.48959238, -1.53442611, -1.02067914,\n",
       "        -0.78687684],\n",
       "       [-0.83026065, -0.04094697,  0.40199487,  0.95260773,  0.23816675,\n",
       "        -0.71820614],\n",
       "       [ 0.85188916, -1.06723776, -1.8416672 ,  0.54801801,  1.42265094,\n",
       "         0.06620187],\n",
       "       [ 0.57346503,  1.32124879, -0.77943589, -0.05307058,  0.38066176,\n",
       "         0.02372483],\n",
       "       [ 0.93910497, -1.81906678,  0.91485666, -1.3129397 , -0.89946801,\n",
       "         0.55193815],\n",
       "       [-0.3469712 ,  0.43248122, -0.38089407,  0.19731829, -0.08363722,\n",
       "        -0.69855562]])"
      ]
     },
     "execution_count": 48,
     "metadata": {},
     "output_type": "execute_result"
    }
   ],
   "source": [
    "# Describe shows a quick statistic summary of your data\n",
    "df.values"
   ]
  },
  {
   "cell_type": "code",
   "execution_count": 51,
   "metadata": {},
   "outputs": [
    {
     "data": {
      "text/html": [
       "<div>\n",
       "<style scoped>\n",
       "    .dataframe tbody tr th:only-of-type {\n",
       "        vertical-align: middle;\n",
       "    }\n",
       "\n",
       "    .dataframe tbody tr th {\n",
       "        vertical-align: top;\n",
       "    }\n",
       "\n",
       "    .dataframe thead th {\n",
       "        text-align: right;\n",
       "    }\n",
       "</style>\n",
       "<table border=\"1\" class=\"dataframe\">\n",
       "  <thead>\n",
       "    <tr style=\"text-align: right;\">\n",
       "      <th></th>\n",
       "      <th>Q</th>\n",
       "      <th>W</th>\n",
       "      <th>E</th>\n",
       "      <th>R</th>\n",
       "      <th>T</th>\n",
       "      <th>Y</th>\n",
       "    </tr>\n",
       "  </thead>\n",
       "  <tbody>\n",
       "    <tr>\n",
       "      <th>count</th>\n",
       "      <td>7.000000</td>\n",
       "      <td>7.000000</td>\n",
       "      <td>7.000000</td>\n",
       "      <td>7.000000</td>\n",
       "      <td>7.000000</td>\n",
       "      <td>7.000000</td>\n",
       "    </tr>\n",
       "    <tr>\n",
       "      <th>mean</th>\n",
       "      <td>0.187024</td>\n",
       "      <td>-0.077832</td>\n",
       "      <td>-0.448532</td>\n",
       "      <td>0.068091</td>\n",
       "      <td>0.057778</td>\n",
       "      <td>-0.473496</td>\n",
       "    </tr>\n",
       "    <tr>\n",
       "      <th>std</th>\n",
       "      <td>1.217821</td>\n",
       "      <td>1.045803</td>\n",
       "      <td>0.904206</td>\n",
       "      <td>1.162958</td>\n",
       "      <td>0.836114</td>\n",
       "      <td>0.756650</td>\n",
       "    </tr>\n",
       "    <tr>\n",
       "      <th>min</th>\n",
       "      <td>-1.726446</td>\n",
       "      <td>-1.819067</td>\n",
       "      <td>-1.841667</td>\n",
       "      <td>-1.534426</td>\n",
       "      <td>-1.020679</td>\n",
       "      <td>-1.752698</td>\n",
       "    </tr>\n",
       "    <tr>\n",
       "      <th>25%</th>\n",
       "      <td>-0.588616</td>\n",
       "      <td>-0.554092</td>\n",
       "      <td>-0.872212</td>\n",
       "      <td>-0.683005</td>\n",
       "      <td>-0.491553</td>\n",
       "      <td>-0.752541</td>\n",
       "    </tr>\n",
       "    <tr>\n",
       "      <th>50%</th>\n",
       "      <td>0.573465</td>\n",
       "      <td>0.203470</td>\n",
       "      <td>-0.489592</td>\n",
       "      <td>0.197318</td>\n",
       "      <td>0.238167</td>\n",
       "      <td>-0.698556</td>\n",
       "    </tr>\n",
       "    <tr>\n",
       "      <th>75%</th>\n",
       "      <td>0.895497</td>\n",
       "      <td>0.428853</td>\n",
       "      <td>0.010550</td>\n",
       "      <td>0.750313</td>\n",
       "      <td>0.373706</td>\n",
       "      <td>0.044963</td>\n",
       "    </tr>\n",
       "    <tr>\n",
       "      <th>max</th>\n",
       "      <td>1.848389</td>\n",
       "      <td>1.321249</td>\n",
       "      <td>0.914857</td>\n",
       "      <td>1.679127</td>\n",
       "      <td>1.422651</td>\n",
       "      <td>0.551938</td>\n",
       "    </tr>\n",
       "  </tbody>\n",
       "</table>\n",
       "</div>"
      ],
      "text/plain": [
       "              Q         W         E         R         T         Y\n",
       "count  7.000000  7.000000  7.000000  7.000000  7.000000  7.000000\n",
       "mean   0.187024 -0.077832 -0.448532  0.068091  0.057778 -0.473496\n",
       "std    1.217821  1.045803  0.904206  1.162958  0.836114  0.756650\n",
       "min   -1.726446 -1.819067 -1.841667 -1.534426 -1.020679 -1.752698\n",
       "25%   -0.588616 -0.554092 -0.872212 -0.683005 -0.491553 -0.752541\n",
       "50%    0.573465  0.203470 -0.489592  0.197318  0.238167 -0.698556\n",
       "75%    0.895497  0.428853  0.010550  0.750313  0.373706  0.044963\n",
       "max    1.848389  1.321249  0.914857  1.679127  1.422651  0.551938"
      ]
     },
     "execution_count": 51,
     "metadata": {},
     "output_type": "execute_result"
    }
   ],
   "source": [
    "# Describe shows a quick statistic summary of your data\n",
    "df.describe()"
   ]
  },
  {
   "cell_type": "code",
   "execution_count": 53,
   "metadata": {},
   "outputs": [
    {
     "data": {
      "text/html": [
       "<div>\n",
       "<style scoped>\n",
       "    .dataframe tbody tr th:only-of-type {\n",
       "        vertical-align: middle;\n",
       "    }\n",
       "\n",
       "    .dataframe tbody tr th {\n",
       "        vertical-align: top;\n",
       "    }\n",
       "\n",
       "    .dataframe thead th {\n",
       "        text-align: right;\n",
       "    }\n",
       "</style>\n",
       "<table border=\"1\" class=\"dataframe\">\n",
       "  <thead>\n",
       "    <tr style=\"text-align: right;\">\n",
       "      <th></th>\n",
       "      <th>2015-10-11 00:00:00</th>\n",
       "      <th>2015-10-12 00:00:00</th>\n",
       "      <th>2015-10-13 00:00:00</th>\n",
       "      <th>2015-10-14 00:00:00</th>\n",
       "      <th>2015-10-15 00:00:00</th>\n",
       "      <th>2015-10-16 00:00:00</th>\n",
       "      <th>2015-10-17 00:00:00</th>\n",
       "    </tr>\n",
       "  </thead>\n",
       "  <tbody>\n",
       "    <tr>\n",
       "      <th>Q</th>\n",
       "      <td>1.848389</td>\n",
       "      <td>-1.726446</td>\n",
       "      <td>-0.830261</td>\n",
       "      <td>0.851889</td>\n",
       "      <td>0.573465</td>\n",
       "      <td>0.939105</td>\n",
       "      <td>-0.346971</td>\n",
       "    </tr>\n",
       "    <tr>\n",
       "      <th>W</th>\n",
       "      <td>0.203470</td>\n",
       "      <td>0.425225</td>\n",
       "      <td>-0.040947</td>\n",
       "      <td>-1.067238</td>\n",
       "      <td>1.321249</td>\n",
       "      <td>-1.819067</td>\n",
       "      <td>0.432481</td>\n",
       "    </tr>\n",
       "    <tr>\n",
       "      <th>E</th>\n",
       "      <td>-0.964987</td>\n",
       "      <td>-0.489592</td>\n",
       "      <td>0.401995</td>\n",
       "      <td>-1.841667</td>\n",
       "      <td>-0.779436</td>\n",
       "      <td>0.914857</td>\n",
       "      <td>-0.380894</td>\n",
       "    </tr>\n",
       "    <tr>\n",
       "      <th>R</th>\n",
       "      <td>1.679127</td>\n",
       "      <td>-1.534426</td>\n",
       "      <td>0.952608</td>\n",
       "      <td>0.548018</td>\n",
       "      <td>-0.053071</td>\n",
       "      <td>-1.312940</td>\n",
       "      <td>0.197318</td>\n",
       "    </tr>\n",
       "    <tr>\n",
       "      <th>T</th>\n",
       "      <td>0.366751</td>\n",
       "      <td>-1.020679</td>\n",
       "      <td>0.238167</td>\n",
       "      <td>1.422651</td>\n",
       "      <td>0.380662</td>\n",
       "      <td>-0.899468</td>\n",
       "      <td>-0.083637</td>\n",
       "    </tr>\n",
       "    <tr>\n",
       "      <th>Y</th>\n",
       "      <td>-1.752698</td>\n",
       "      <td>-0.786877</td>\n",
       "      <td>-0.718206</td>\n",
       "      <td>0.066202</td>\n",
       "      <td>0.023725</td>\n",
       "      <td>0.551938</td>\n",
       "      <td>-0.698556</td>\n",
       "    </tr>\n",
       "  </tbody>\n",
       "</table>\n",
       "</div>"
      ],
      "text/plain": [
       "   2015-10-11  2015-10-12  2015-10-13  2015-10-14  2015-10-15  2015-10-16  \\\n",
       "Q    1.848389   -1.726446   -0.830261    0.851889    0.573465    0.939105   \n",
       "W    0.203470    0.425225   -0.040947   -1.067238    1.321249   -1.819067   \n",
       "E   -0.964987   -0.489592    0.401995   -1.841667   -0.779436    0.914857   \n",
       "R    1.679127   -1.534426    0.952608    0.548018   -0.053071   -1.312940   \n",
       "T    0.366751   -1.020679    0.238167    1.422651    0.380662   -0.899468   \n",
       "Y   -1.752698   -0.786877   -0.718206    0.066202    0.023725    0.551938   \n",
       "\n",
       "   2015-10-17  \n",
       "Q   -0.346971  \n",
       "W    0.432481  \n",
       "E   -0.380894  \n",
       "R    0.197318  \n",
       "T   -0.083637  \n",
       "Y   -0.698556  "
      ]
     },
     "execution_count": 53,
     "metadata": {},
     "output_type": "execute_result"
    }
   ],
   "source": [
    "# Transposing your data\n",
    "df.T"
   ]
  },
  {
   "cell_type": "code",
   "execution_count": 54,
   "metadata": {},
   "outputs": [
    {
     "data": {
      "text/html": [
       "<div>\n",
       "<style scoped>\n",
       "    .dataframe tbody tr th:only-of-type {\n",
       "        vertical-align: middle;\n",
       "    }\n",
       "\n",
       "    .dataframe tbody tr th {\n",
       "        vertical-align: top;\n",
       "    }\n",
       "\n",
       "    .dataframe thead th {\n",
       "        text-align: right;\n",
       "    }\n",
       "</style>\n",
       "<table border=\"1\" class=\"dataframe\">\n",
       "  <thead>\n",
       "    <tr style=\"text-align: right;\">\n",
       "      <th></th>\n",
       "      <th>Y</th>\n",
       "      <th>W</th>\n",
       "      <th>T</th>\n",
       "      <th>R</th>\n",
       "      <th>Q</th>\n",
       "      <th>E</th>\n",
       "    </tr>\n",
       "  </thead>\n",
       "  <tbody>\n",
       "    <tr>\n",
       "      <th>2015-10-11</th>\n",
       "      <td>-1.752698</td>\n",
       "      <td>0.203470</td>\n",
       "      <td>0.366751</td>\n",
       "      <td>1.679127</td>\n",
       "      <td>1.848389</td>\n",
       "      <td>-0.964987</td>\n",
       "    </tr>\n",
       "    <tr>\n",
       "      <th>2015-10-12</th>\n",
       "      <td>-0.786877</td>\n",
       "      <td>0.425225</td>\n",
       "      <td>-1.020679</td>\n",
       "      <td>-1.534426</td>\n",
       "      <td>-1.726446</td>\n",
       "      <td>-0.489592</td>\n",
       "    </tr>\n",
       "    <tr>\n",
       "      <th>2015-10-13</th>\n",
       "      <td>-0.718206</td>\n",
       "      <td>-0.040947</td>\n",
       "      <td>0.238167</td>\n",
       "      <td>0.952608</td>\n",
       "      <td>-0.830261</td>\n",
       "      <td>0.401995</td>\n",
       "    </tr>\n",
       "    <tr>\n",
       "      <th>2015-10-14</th>\n",
       "      <td>0.066202</td>\n",
       "      <td>-1.067238</td>\n",
       "      <td>1.422651</td>\n",
       "      <td>0.548018</td>\n",
       "      <td>0.851889</td>\n",
       "      <td>-1.841667</td>\n",
       "    </tr>\n",
       "    <tr>\n",
       "      <th>2015-10-15</th>\n",
       "      <td>0.023725</td>\n",
       "      <td>1.321249</td>\n",
       "      <td>0.380662</td>\n",
       "      <td>-0.053071</td>\n",
       "      <td>0.573465</td>\n",
       "      <td>-0.779436</td>\n",
       "    </tr>\n",
       "    <tr>\n",
       "      <th>2015-10-16</th>\n",
       "      <td>0.551938</td>\n",
       "      <td>-1.819067</td>\n",
       "      <td>-0.899468</td>\n",
       "      <td>-1.312940</td>\n",
       "      <td>0.939105</td>\n",
       "      <td>0.914857</td>\n",
       "    </tr>\n",
       "    <tr>\n",
       "      <th>2015-10-17</th>\n",
       "      <td>-0.698556</td>\n",
       "      <td>0.432481</td>\n",
       "      <td>-0.083637</td>\n",
       "      <td>0.197318</td>\n",
       "      <td>-0.346971</td>\n",
       "      <td>-0.380894</td>\n",
       "    </tr>\n",
       "  </tbody>\n",
       "</table>\n",
       "</div>"
      ],
      "text/plain": [
       "                   Y         W         T         R         Q         E\n",
       "2015-10-11 -1.752698  0.203470  0.366751  1.679127  1.848389 -0.964987\n",
       "2015-10-12 -0.786877  0.425225 -1.020679 -1.534426 -1.726446 -0.489592\n",
       "2015-10-13 -0.718206 -0.040947  0.238167  0.952608 -0.830261  0.401995\n",
       "2015-10-14  0.066202 -1.067238  1.422651  0.548018  0.851889 -1.841667\n",
       "2015-10-15  0.023725  1.321249  0.380662 -0.053071  0.573465 -0.779436\n",
       "2015-10-16  0.551938 -1.819067 -0.899468 -1.312940  0.939105  0.914857\n",
       "2015-10-17 -0.698556  0.432481 -0.083637  0.197318 -0.346971 -0.380894"
      ]
     },
     "execution_count": 54,
     "metadata": {},
     "output_type": "execute_result"
    }
   ],
   "source": [
    "# Sorting by an axis\n",
    "df.sort_index(axis=1, ascending=False)"
   ]
  },
  {
   "cell_type": "code",
   "execution_count": 55,
   "metadata": {},
   "outputs": [
    {
     "data": {
      "text/html": [
       "<div>\n",
       "<style scoped>\n",
       "    .dataframe tbody tr th:only-of-type {\n",
       "        vertical-align: middle;\n",
       "    }\n",
       "\n",
       "    .dataframe tbody tr th {\n",
       "        vertical-align: top;\n",
       "    }\n",
       "\n",
       "    .dataframe thead th {\n",
       "        text-align: right;\n",
       "    }\n",
       "</style>\n",
       "<table border=\"1\" class=\"dataframe\">\n",
       "  <thead>\n",
       "    <tr style=\"text-align: right;\">\n",
       "      <th></th>\n",
       "      <th>Q</th>\n",
       "      <th>W</th>\n",
       "      <th>E</th>\n",
       "      <th>R</th>\n",
       "      <th>T</th>\n",
       "      <th>Y</th>\n",
       "    </tr>\n",
       "  </thead>\n",
       "  <tbody>\n",
       "    <tr>\n",
       "      <th>2015-10-12</th>\n",
       "      <td>-1.726446</td>\n",
       "      <td>0.425225</td>\n",
       "      <td>-0.489592</td>\n",
       "      <td>-1.534426</td>\n",
       "      <td>-1.020679</td>\n",
       "      <td>-0.786877</td>\n",
       "    </tr>\n",
       "    <tr>\n",
       "      <th>2015-10-16</th>\n",
       "      <td>0.939105</td>\n",
       "      <td>-1.819067</td>\n",
       "      <td>0.914857</td>\n",
       "      <td>-1.312940</td>\n",
       "      <td>-0.899468</td>\n",
       "      <td>0.551938</td>\n",
       "    </tr>\n",
       "    <tr>\n",
       "      <th>2015-10-15</th>\n",
       "      <td>0.573465</td>\n",
       "      <td>1.321249</td>\n",
       "      <td>-0.779436</td>\n",
       "      <td>-0.053071</td>\n",
       "      <td>0.380662</td>\n",
       "      <td>0.023725</td>\n",
       "    </tr>\n",
       "    <tr>\n",
       "      <th>2015-10-17</th>\n",
       "      <td>-0.346971</td>\n",
       "      <td>0.432481</td>\n",
       "      <td>-0.380894</td>\n",
       "      <td>0.197318</td>\n",
       "      <td>-0.083637</td>\n",
       "      <td>-0.698556</td>\n",
       "    </tr>\n",
       "    <tr>\n",
       "      <th>2015-10-14</th>\n",
       "      <td>0.851889</td>\n",
       "      <td>-1.067238</td>\n",
       "      <td>-1.841667</td>\n",
       "      <td>0.548018</td>\n",
       "      <td>1.422651</td>\n",
       "      <td>0.066202</td>\n",
       "    </tr>\n",
       "    <tr>\n",
       "      <th>2015-10-13</th>\n",
       "      <td>-0.830261</td>\n",
       "      <td>-0.040947</td>\n",
       "      <td>0.401995</td>\n",
       "      <td>0.952608</td>\n",
       "      <td>0.238167</td>\n",
       "      <td>-0.718206</td>\n",
       "    </tr>\n",
       "    <tr>\n",
       "      <th>2015-10-11</th>\n",
       "      <td>1.848389</td>\n",
       "      <td>0.203470</td>\n",
       "      <td>-0.964987</td>\n",
       "      <td>1.679127</td>\n",
       "      <td>0.366751</td>\n",
       "      <td>-1.752698</td>\n",
       "    </tr>\n",
       "  </tbody>\n",
       "</table>\n",
       "</div>"
      ],
      "text/plain": [
       "                   Q         W         E         R         T         Y\n",
       "2015-10-12 -1.726446  0.425225 -0.489592 -1.534426 -1.020679 -0.786877\n",
       "2015-10-16  0.939105 -1.819067  0.914857 -1.312940 -0.899468  0.551938\n",
       "2015-10-15  0.573465  1.321249 -0.779436 -0.053071  0.380662  0.023725\n",
       "2015-10-17 -0.346971  0.432481 -0.380894  0.197318 -0.083637 -0.698556\n",
       "2015-10-14  0.851889 -1.067238 -1.841667  0.548018  1.422651  0.066202\n",
       "2015-10-13 -0.830261 -0.040947  0.401995  0.952608  0.238167 -0.718206\n",
       "2015-10-11  1.848389  0.203470 -0.964987  1.679127  0.366751 -1.752698"
      ]
     },
     "execution_count": 55,
     "metadata": {},
     "output_type": "execute_result"
    }
   ],
   "source": [
    "# Sorting by values\n",
    "df.sort_values(by='R')"
   ]
  },
  {
   "cell_type": "markdown",
   "metadata": {},
   "source": [
    "## Selection "
   ]
  },
  {
   "cell_type": "code",
   "execution_count": 56,
   "metadata": {},
   "outputs": [],
   "source": [
    "### Note While standard Python / Numpy expressions for selecting and setting are intuitive \n",
    "### and come in handy for interactive work, for production code, we recommend the optimized \n",
    "### pandas data access methods, .at, .iat, .loc, .iloc and .ix."
   ]
  },
  {
   "cell_type": "code",
   "execution_count": 57,
   "metadata": {},
   "outputs": [],
   "source": [
    "# See the indexing documentation Indexing and Selecing Data and MultiIndex / Advanced Indexing"
   ]
  },
  {
   "cell_type": "markdown",
   "metadata": {},
   "source": [
    "## Getting "
   ]
  },
  {
   "cell_type": "code",
   "execution_count": 61,
   "metadata": {},
   "outputs": [
    {
     "data": {
      "text/plain": [
       "2015-10-11    1.848389\n",
       "2015-10-12   -1.726446\n",
       "2015-10-13   -0.830261\n",
       "2015-10-14    0.851889\n",
       "2015-10-15    0.573465\n",
       "2015-10-16    0.939105\n",
       "2015-10-17   -0.346971\n",
       "Freq: D, Name: Q, dtype: float64"
      ]
     },
     "execution_count": 61,
     "metadata": {},
     "output_type": "execute_result"
    }
   ],
   "source": [
    "#Selecting a single column, which yields a Series, equivalent to df.A\n",
    "df['Q']"
   ]
  },
  {
   "cell_type": "code",
   "execution_count": 65,
   "metadata": {},
   "outputs": [
    {
     "data": {
      "text/html": [
       "<div>\n",
       "<style scoped>\n",
       "    .dataframe tbody tr th:only-of-type {\n",
       "        vertical-align: middle;\n",
       "    }\n",
       "\n",
       "    .dataframe tbody tr th {\n",
       "        vertical-align: top;\n",
       "    }\n",
       "\n",
       "    .dataframe thead th {\n",
       "        text-align: right;\n",
       "    }\n",
       "</style>\n",
       "<table border=\"1\" class=\"dataframe\">\n",
       "  <thead>\n",
       "    <tr style=\"text-align: right;\">\n",
       "      <th></th>\n",
       "      <th>Q</th>\n",
       "      <th>W</th>\n",
       "      <th>E</th>\n",
       "      <th>R</th>\n",
       "      <th>T</th>\n",
       "      <th>Y</th>\n",
       "    </tr>\n",
       "  </thead>\n",
       "  <tbody>\n",
       "    <tr>\n",
       "      <th>2015-10-11</th>\n",
       "      <td>1.848389</td>\n",
       "      <td>0.203470</td>\n",
       "      <td>-0.964987</td>\n",
       "      <td>1.679127</td>\n",
       "      <td>0.366751</td>\n",
       "      <td>-1.752698</td>\n",
       "    </tr>\n",
       "    <tr>\n",
       "      <th>2015-10-12</th>\n",
       "      <td>-1.726446</td>\n",
       "      <td>0.425225</td>\n",
       "      <td>-0.489592</td>\n",
       "      <td>-1.534426</td>\n",
       "      <td>-1.020679</td>\n",
       "      <td>-0.786877</td>\n",
       "    </tr>\n",
       "    <tr>\n",
       "      <th>2015-10-13</th>\n",
       "      <td>-0.830261</td>\n",
       "      <td>-0.040947</td>\n",
       "      <td>0.401995</td>\n",
       "      <td>0.952608</td>\n",
       "      <td>0.238167</td>\n",
       "      <td>-0.718206</td>\n",
       "    </tr>\n",
       "  </tbody>\n",
       "</table>\n",
       "</div>"
      ],
      "text/plain": [
       "                   Q         W         E         R         T         Y\n",
       "2015-10-11  1.848389  0.203470 -0.964987  1.679127  0.366751 -1.752698\n",
       "2015-10-12 -1.726446  0.425225 -0.489592 -1.534426 -1.020679 -0.786877\n",
       "2015-10-13 -0.830261 -0.040947  0.401995  0.952608  0.238167 -0.718206"
      ]
     },
     "execution_count": 65,
     "metadata": {},
     "output_type": "execute_result"
    }
   ],
   "source": [
    "# Selecting via [], which slices the rows.\n",
    "df[0:3]"
   ]
  },
  {
   "cell_type": "code",
   "execution_count": 67,
   "metadata": {},
   "outputs": [
    {
     "data": {
      "text/html": [
       "<div>\n",
       "<style scoped>\n",
       "    .dataframe tbody tr th:only-of-type {\n",
       "        vertical-align: middle;\n",
       "    }\n",
       "\n",
       "    .dataframe tbody tr th {\n",
       "        vertical-align: top;\n",
       "    }\n",
       "\n",
       "    .dataframe thead th {\n",
       "        text-align: right;\n",
       "    }\n",
       "</style>\n",
       "<table border=\"1\" class=\"dataframe\">\n",
       "  <thead>\n",
       "    <tr style=\"text-align: right;\">\n",
       "      <th></th>\n",
       "      <th>Q</th>\n",
       "      <th>W</th>\n",
       "      <th>E</th>\n",
       "      <th>R</th>\n",
       "      <th>T</th>\n",
       "      <th>Y</th>\n",
       "    </tr>\n",
       "  </thead>\n",
       "  <tbody>\n",
       "    <tr>\n",
       "      <th>2015-10-11</th>\n",
       "      <td>1.848389</td>\n",
       "      <td>0.203470</td>\n",
       "      <td>-0.964987</td>\n",
       "      <td>1.679127</td>\n",
       "      <td>0.366751</td>\n",
       "      <td>-1.752698</td>\n",
       "    </tr>\n",
       "    <tr>\n",
       "      <th>2015-10-12</th>\n",
       "      <td>-1.726446</td>\n",
       "      <td>0.425225</td>\n",
       "      <td>-0.489592</td>\n",
       "      <td>-1.534426</td>\n",
       "      <td>-1.020679</td>\n",
       "      <td>-0.786877</td>\n",
       "    </tr>\n",
       "    <tr>\n",
       "      <th>2015-10-13</th>\n",
       "      <td>-0.830261</td>\n",
       "      <td>-0.040947</td>\n",
       "      <td>0.401995</td>\n",
       "      <td>0.952608</td>\n",
       "      <td>0.238167</td>\n",
       "      <td>-0.718206</td>\n",
       "    </tr>\n",
       "  </tbody>\n",
       "</table>\n",
       "</div>"
      ],
      "text/plain": [
       "                   Q         W         E         R         T         Y\n",
       "2015-10-11  1.848389  0.203470 -0.964987  1.679127  0.366751 -1.752698\n",
       "2015-10-12 -1.726446  0.425225 -0.489592 -1.534426 -1.020679 -0.786877\n",
       "2015-10-13 -0.830261 -0.040947  0.401995  0.952608  0.238167 -0.718206"
      ]
     },
     "execution_count": 67,
     "metadata": {},
     "output_type": "execute_result"
    }
   ],
   "source": [
    "df['20151011':'20151013']"
   ]
  },
  {
   "cell_type": "markdown",
   "metadata": {},
   "source": [
    "## Selection by Label "
   ]
  },
  {
   "cell_type": "code",
   "execution_count": 68,
   "metadata": {},
   "outputs": [],
   "source": [
    "# See more in Selection by Label\n",
    "# For getting a cross section using a label"
   ]
  },
  {
   "cell_type": "code",
   "execution_count": 70,
   "metadata": {},
   "outputs": [
    {
     "data": {
      "text/html": [
       "<div>\n",
       "<style scoped>\n",
       "    .dataframe tbody tr th:only-of-type {\n",
       "        vertical-align: middle;\n",
       "    }\n",
       "\n",
       "    .dataframe tbody tr th {\n",
       "        vertical-align: top;\n",
       "    }\n",
       "\n",
       "    .dataframe thead th {\n",
       "        text-align: right;\n",
       "    }\n",
       "</style>\n",
       "<table border=\"1\" class=\"dataframe\">\n",
       "  <thead>\n",
       "    <tr style=\"text-align: right;\">\n",
       "      <th></th>\n",
       "      <th>Q</th>\n",
       "      <th>E</th>\n",
       "      <th>Y</th>\n",
       "    </tr>\n",
       "  </thead>\n",
       "  <tbody>\n",
       "    <tr>\n",
       "      <th>2015-10-11</th>\n",
       "      <td>1.848389</td>\n",
       "      <td>-0.964987</td>\n",
       "      <td>-1.752698</td>\n",
       "    </tr>\n",
       "    <tr>\n",
       "      <th>2015-10-12</th>\n",
       "      <td>-1.726446</td>\n",
       "      <td>-0.489592</td>\n",
       "      <td>-0.786877</td>\n",
       "    </tr>\n",
       "    <tr>\n",
       "      <th>2015-10-13</th>\n",
       "      <td>-0.830261</td>\n",
       "      <td>0.401995</td>\n",
       "      <td>-0.718206</td>\n",
       "    </tr>\n",
       "    <tr>\n",
       "      <th>2015-10-14</th>\n",
       "      <td>0.851889</td>\n",
       "      <td>-1.841667</td>\n",
       "      <td>0.066202</td>\n",
       "    </tr>\n",
       "    <tr>\n",
       "      <th>2015-10-15</th>\n",
       "      <td>0.573465</td>\n",
       "      <td>-0.779436</td>\n",
       "      <td>0.023725</td>\n",
       "    </tr>\n",
       "    <tr>\n",
       "      <th>2015-10-16</th>\n",
       "      <td>0.939105</td>\n",
       "      <td>0.914857</td>\n",
       "      <td>0.551938</td>\n",
       "    </tr>\n",
       "    <tr>\n",
       "      <th>2015-10-17</th>\n",
       "      <td>-0.346971</td>\n",
       "      <td>-0.380894</td>\n",
       "      <td>-0.698556</td>\n",
       "    </tr>\n",
       "  </tbody>\n",
       "</table>\n",
       "</div>"
      ],
      "text/plain": [
       "                   Q         E         Y\n",
       "2015-10-11  1.848389 -0.964987 -1.752698\n",
       "2015-10-12 -1.726446 -0.489592 -0.786877\n",
       "2015-10-13 -0.830261  0.401995 -0.718206\n",
       "2015-10-14  0.851889 -1.841667  0.066202\n",
       "2015-10-15  0.573465 -0.779436  0.023725\n",
       "2015-10-16  0.939105  0.914857  0.551938\n",
       "2015-10-17 -0.346971 -0.380894 -0.698556"
      ]
     },
     "execution_count": 70,
     "metadata": {},
     "output_type": "execute_result"
    }
   ],
   "source": [
    "df.loc[:,['Q','E','Y']]"
   ]
  },
  {
   "cell_type": "code",
   "execution_count": 71,
   "metadata": {},
   "outputs": [
    {
     "data": {
      "text/html": [
       "<div>\n",
       "<style scoped>\n",
       "    .dataframe tbody tr th:only-of-type {\n",
       "        vertical-align: middle;\n",
       "    }\n",
       "\n",
       "    .dataframe tbody tr th {\n",
       "        vertical-align: top;\n",
       "    }\n",
       "\n",
       "    .dataframe thead th {\n",
       "        text-align: right;\n",
       "    }\n",
       "</style>\n",
       "<table border=\"1\" class=\"dataframe\">\n",
       "  <thead>\n",
       "    <tr style=\"text-align: right;\">\n",
       "      <th></th>\n",
       "      <th>Q</th>\n",
       "      <th>R</th>\n",
       "    </tr>\n",
       "  </thead>\n",
       "  <tbody>\n",
       "    <tr>\n",
       "      <th>2015-10-11</th>\n",
       "      <td>1.848389</td>\n",
       "      <td>1.679127</td>\n",
       "    </tr>\n",
       "    <tr>\n",
       "      <th>2015-10-12</th>\n",
       "      <td>-1.726446</td>\n",
       "      <td>-1.534426</td>\n",
       "    </tr>\n",
       "    <tr>\n",
       "      <th>2015-10-13</th>\n",
       "      <td>-0.830261</td>\n",
       "      <td>0.952608</td>\n",
       "    </tr>\n",
       "    <tr>\n",
       "      <th>2015-10-14</th>\n",
       "      <td>0.851889</td>\n",
       "      <td>0.548018</td>\n",
       "    </tr>\n",
       "    <tr>\n",
       "      <th>2015-10-15</th>\n",
       "      <td>0.573465</td>\n",
       "      <td>-0.053071</td>\n",
       "    </tr>\n",
       "  </tbody>\n",
       "</table>\n",
       "</div>"
      ],
      "text/plain": [
       "                   Q         R\n",
       "2015-10-11  1.848389  1.679127\n",
       "2015-10-12 -1.726446 -1.534426\n",
       "2015-10-13 -0.830261  0.952608\n",
       "2015-10-14  0.851889  0.548018\n",
       "2015-10-15  0.573465 -0.053071"
      ]
     },
     "execution_count": 71,
     "metadata": {},
     "output_type": "execute_result"
    }
   ],
   "source": [
    "# Showing label slicing, both endpoints are included\n",
    "df.loc['20151011':'20151015', ['Q','R']]"
   ]
  },
  {
   "cell_type": "code",
   "execution_count": 73,
   "metadata": {},
   "outputs": [
    {
     "data": {
      "text/plain": [
       "R    1.679127\n",
       "T    0.366751\n",
       "Y   -1.752698\n",
       "Name: 2015-10-11 00:00:00, dtype: float64"
      ]
     },
     "execution_count": 73,
     "metadata": {},
     "output_type": "execute_result"
    }
   ],
   "source": [
    "# Reduction in the dimensions of the returned object\n",
    "df.loc['20151011', ['R','T','Y']]"
   ]
  },
  {
   "cell_type": "code",
   "execution_count": 75,
   "metadata": {},
   "outputs": [
    {
     "data": {
      "text/plain": [
       "1.8483885592481155"
      ]
     },
     "execution_count": 75,
     "metadata": {},
     "output_type": "execute_result"
    }
   ],
   "source": [
    "# For getting a scalar value\n",
    "df.loc[dates[0],'Q']"
   ]
  },
  {
   "cell_type": "code",
   "execution_count": 78,
   "metadata": {},
   "outputs": [
    {
     "data": {
      "text/plain": [
       "1.8483885592481155"
      ]
     },
     "execution_count": 78,
     "metadata": {},
     "output_type": "execute_result"
    }
   ],
   "source": [
    "# For getting fast access to a scalar (equiv to the prior method)\n",
    "df.at[dates[0],'Q']"
   ]
  },
  {
   "cell_type": "markdown",
   "metadata": {},
   "source": [
    "## Selection by Position "
   ]
  },
  {
   "cell_type": "code",
   "execution_count": 79,
   "metadata": {},
   "outputs": [],
   "source": [
    "# See more in Selection by Position\n",
    "# Select via the position of the passed integers"
   ]
  },
  {
   "cell_type": "code",
   "execution_count": 81,
   "metadata": {},
   "outputs": [
    {
     "data": {
      "text/plain": [
       "Q    0.851889\n",
       "W   -1.067238\n",
       "E   -1.841667\n",
       "R    0.548018\n",
       "T    1.422651\n",
       "Y    0.066202\n",
       "Name: 2015-10-14 00:00:00, dtype: float64"
      ]
     },
     "execution_count": 81,
     "metadata": {},
     "output_type": "execute_result"
    }
   ],
   "source": [
    "# Select via the position of the passed integers\n",
    "df.iloc[3]"
   ]
  },
  {
   "cell_type": "code",
   "execution_count": 86,
   "metadata": {},
   "outputs": [
    {
     "data": {
      "text/html": [
       "<div>\n",
       "<style scoped>\n",
       "    .dataframe tbody tr th:only-of-type {\n",
       "        vertical-align: middle;\n",
       "    }\n",
       "\n",
       "    .dataframe tbody tr th {\n",
       "        vertical-align: top;\n",
       "    }\n",
       "\n",
       "    .dataframe thead th {\n",
       "        text-align: right;\n",
       "    }\n",
       "</style>\n",
       "<table border=\"1\" class=\"dataframe\">\n",
       "  <thead>\n",
       "    <tr style=\"text-align: right;\">\n",
       "      <th></th>\n",
       "      <th>Q</th>\n",
       "      <th>W</th>\n",
       "      <th>E</th>\n",
       "    </tr>\n",
       "  </thead>\n",
       "  <tbody>\n",
       "    <tr>\n",
       "      <th>2015-10-11</th>\n",
       "      <td>1.848389</td>\n",
       "      <td>0.203470</td>\n",
       "      <td>-0.964987</td>\n",
       "    </tr>\n",
       "    <tr>\n",
       "      <th>2015-10-12</th>\n",
       "      <td>-1.726446</td>\n",
       "      <td>0.425225</td>\n",
       "      <td>-0.489592</td>\n",
       "    </tr>\n",
       "    <tr>\n",
       "      <th>2015-10-13</th>\n",
       "      <td>-0.830261</td>\n",
       "      <td>-0.040947</td>\n",
       "      <td>0.401995</td>\n",
       "    </tr>\n",
       "    <tr>\n",
       "      <th>2015-10-14</th>\n",
       "      <td>0.851889</td>\n",
       "      <td>-1.067238</td>\n",
       "      <td>-1.841667</td>\n",
       "    </tr>\n",
       "  </tbody>\n",
       "</table>\n",
       "</div>"
      ],
      "text/plain": [
       "                   Q         W         E\n",
       "2015-10-11  1.848389  0.203470 -0.964987\n",
       "2015-10-12 -1.726446  0.425225 -0.489592\n",
       "2015-10-13 -0.830261 -0.040947  0.401995\n",
       "2015-10-14  0.851889 -1.067238 -1.841667"
      ]
     },
     "execution_count": 86,
     "metadata": {},
     "output_type": "execute_result"
    }
   ],
   "source": [
    "# By integer slices, acting similar to numpy/python\n",
    "df.iloc[0:4,0:3]"
   ]
  },
  {
   "cell_type": "code",
   "execution_count": 84,
   "metadata": {},
   "outputs": [
    {
     "data": {
      "text/html": [
       "<div>\n",
       "<style scoped>\n",
       "    .dataframe tbody tr th:only-of-type {\n",
       "        vertical-align: middle;\n",
       "    }\n",
       "\n",
       "    .dataframe tbody tr th {\n",
       "        vertical-align: top;\n",
       "    }\n",
       "\n",
       "    .dataframe thead th {\n",
       "        text-align: right;\n",
       "    }\n",
       "</style>\n",
       "<table border=\"1\" class=\"dataframe\">\n",
       "  <thead>\n",
       "    <tr style=\"text-align: right;\">\n",
       "      <th></th>\n",
       "      <th>Q</th>\n",
       "      <th>E</th>\n",
       "    </tr>\n",
       "  </thead>\n",
       "  <tbody>\n",
       "    <tr>\n",
       "      <th>2015-10-12</th>\n",
       "      <td>-1.726446</td>\n",
       "      <td>-0.489592</td>\n",
       "    </tr>\n",
       "    <tr>\n",
       "      <th>2015-10-13</th>\n",
       "      <td>-0.830261</td>\n",
       "      <td>0.401995</td>\n",
       "    </tr>\n",
       "    <tr>\n",
       "      <th>2015-10-15</th>\n",
       "      <td>0.573465</td>\n",
       "      <td>-0.779436</td>\n",
       "    </tr>\n",
       "  </tbody>\n",
       "</table>\n",
       "</div>"
      ],
      "text/plain": [
       "                   Q         E\n",
       "2015-10-12 -1.726446 -0.489592\n",
       "2015-10-13 -0.830261  0.401995\n",
       "2015-10-15  0.573465 -0.779436"
      ]
     },
     "execution_count": 84,
     "metadata": {},
     "output_type": "execute_result"
    }
   ],
   "source": [
    "# By lists of integer position locations, similar to the numpy/python style\n",
    "df.iloc[[0,2,3],[0,5]]"
   ]
  },
  {
   "cell_type": "code",
   "execution_count": 87,
   "metadata": {},
   "outputs": [
    {
     "data": {
      "text/html": [
       "<div>\n",
       "<style scoped>\n",
       "    .dataframe tbody tr th:only-of-type {\n",
       "        vertical-align: middle;\n",
       "    }\n",
       "\n",
       "    .dataframe tbody tr th {\n",
       "        vertical-align: top;\n",
       "    }\n",
       "\n",
       "    .dataframe thead th {\n",
       "        text-align: right;\n",
       "    }\n",
       "</style>\n",
       "<table border=\"1\" class=\"dataframe\">\n",
       "  <thead>\n",
       "    <tr style=\"text-align: right;\">\n",
       "      <th></th>\n",
       "      <th>Q</th>\n",
       "      <th>W</th>\n",
       "      <th>E</th>\n",
       "      <th>R</th>\n",
       "      <th>T</th>\n",
       "      <th>Y</th>\n",
       "    </tr>\n",
       "  </thead>\n",
       "  <tbody>\n",
       "    <tr>\n",
       "      <th>2015-10-12</th>\n",
       "      <td>-1.726446</td>\n",
       "      <td>0.425225</td>\n",
       "      <td>-0.489592</td>\n",
       "      <td>-1.534426</td>\n",
       "      <td>-1.020679</td>\n",
       "      <td>-0.786877</td>\n",
       "    </tr>\n",
       "    <tr>\n",
       "      <th>2015-10-13</th>\n",
       "      <td>-0.830261</td>\n",
       "      <td>-0.040947</td>\n",
       "      <td>0.401995</td>\n",
       "      <td>0.952608</td>\n",
       "      <td>0.238167</td>\n",
       "      <td>-0.718206</td>\n",
       "    </tr>\n",
       "  </tbody>\n",
       "</table>\n",
       "</div>"
      ],
      "text/plain": [
       "                   Q         W         E         R         T         Y\n",
       "2015-10-12 -1.726446  0.425225 -0.489592 -1.534426 -1.020679 -0.786877\n",
       "2015-10-13 -0.830261 -0.040947  0.401995  0.952608  0.238167 -0.718206"
      ]
     },
     "execution_count": 87,
     "metadata": {},
     "output_type": "execute_result"
    }
   ],
   "source": [
    "# For slicing rows explicitly\n",
    "df.iloc[1:3,:]"
   ]
  },
  {
   "cell_type": "code",
   "execution_count": 88,
   "metadata": {},
   "outputs": [
    {
     "data": {
      "text/html": [
       "<div>\n",
       "<style scoped>\n",
       "    .dataframe tbody tr th:only-of-type {\n",
       "        vertical-align: middle;\n",
       "    }\n",
       "\n",
       "    .dataframe tbody tr th {\n",
       "        vertical-align: top;\n",
       "    }\n",
       "\n",
       "    .dataframe thead th {\n",
       "        text-align: right;\n",
       "    }\n",
       "</style>\n",
       "<table border=\"1\" class=\"dataframe\">\n",
       "  <thead>\n",
       "    <tr style=\"text-align: right;\">\n",
       "      <th></th>\n",
       "      <th>W</th>\n",
       "      <th>E</th>\n",
       "    </tr>\n",
       "  </thead>\n",
       "  <tbody>\n",
       "    <tr>\n",
       "      <th>2015-10-11</th>\n",
       "      <td>0.203470</td>\n",
       "      <td>-0.964987</td>\n",
       "    </tr>\n",
       "    <tr>\n",
       "      <th>2015-10-12</th>\n",
       "      <td>0.425225</td>\n",
       "      <td>-0.489592</td>\n",
       "    </tr>\n",
       "    <tr>\n",
       "      <th>2015-10-13</th>\n",
       "      <td>-0.040947</td>\n",
       "      <td>0.401995</td>\n",
       "    </tr>\n",
       "    <tr>\n",
       "      <th>2015-10-14</th>\n",
       "      <td>-1.067238</td>\n",
       "      <td>-1.841667</td>\n",
       "    </tr>\n",
       "    <tr>\n",
       "      <th>2015-10-15</th>\n",
       "      <td>1.321249</td>\n",
       "      <td>-0.779436</td>\n",
       "    </tr>\n",
       "    <tr>\n",
       "      <th>2015-10-16</th>\n",
       "      <td>-1.819067</td>\n",
       "      <td>0.914857</td>\n",
       "    </tr>\n",
       "    <tr>\n",
       "      <th>2015-10-17</th>\n",
       "      <td>0.432481</td>\n",
       "      <td>-0.380894</td>\n",
       "    </tr>\n",
       "  </tbody>\n",
       "</table>\n",
       "</div>"
      ],
      "text/plain": [
       "                   W         E\n",
       "2015-10-11  0.203470 -0.964987\n",
       "2015-10-12  0.425225 -0.489592\n",
       "2015-10-13 -0.040947  0.401995\n",
       "2015-10-14 -1.067238 -1.841667\n",
       "2015-10-15  1.321249 -0.779436\n",
       "2015-10-16 -1.819067  0.914857\n",
       "2015-10-17  0.432481 -0.380894"
      ]
     },
     "execution_count": 88,
     "metadata": {},
     "output_type": "execute_result"
    }
   ],
   "source": [
    "# For slicing columns explicitly\n",
    "df.iloc[:,1:3]"
   ]
  },
  {
   "cell_type": "code",
   "execution_count": 89,
   "metadata": {},
   "outputs": [
    {
     "data": {
      "text/plain": [
       "0.42522541784663526"
      ]
     },
     "execution_count": 89,
     "metadata": {},
     "output_type": "execute_result"
    }
   ],
   "source": [
    "# For getting a value explicitly\n",
    "df.iloc[1,1]"
   ]
  },
  {
   "cell_type": "code",
   "execution_count": 90,
   "metadata": {},
   "outputs": [
    {
     "data": {
      "text/plain": [
       "0.42522541784663526"
      ]
     },
     "execution_count": 90,
     "metadata": {},
     "output_type": "execute_result"
    }
   ],
   "source": [
    "# For getting fast access to a scalar (equiv to the prior method)\n",
    "df.iat[1,1]"
   ]
  },
  {
   "cell_type": "markdown",
   "metadata": {},
   "source": [
    "## Boolean Indexing "
   ]
  },
  {
   "cell_type": "code",
   "execution_count": 92,
   "metadata": {},
   "outputs": [
    {
     "data": {
      "text/html": [
       "<div>\n",
       "<style scoped>\n",
       "    .dataframe tbody tr th:only-of-type {\n",
       "        vertical-align: middle;\n",
       "    }\n",
       "\n",
       "    .dataframe tbody tr th {\n",
       "        vertical-align: top;\n",
       "    }\n",
       "\n",
       "    .dataframe thead th {\n",
       "        text-align: right;\n",
       "    }\n",
       "</style>\n",
       "<table border=\"1\" class=\"dataframe\">\n",
       "  <thead>\n",
       "    <tr style=\"text-align: right;\">\n",
       "      <th></th>\n",
       "      <th>Q</th>\n",
       "      <th>W</th>\n",
       "      <th>E</th>\n",
       "      <th>R</th>\n",
       "      <th>T</th>\n",
       "      <th>Y</th>\n",
       "    </tr>\n",
       "  </thead>\n",
       "  <tbody>\n",
       "    <tr>\n",
       "      <th>2015-10-13</th>\n",
       "      <td>-0.830261</td>\n",
       "      <td>-0.040947</td>\n",
       "      <td>0.401995</td>\n",
       "      <td>0.952608</td>\n",
       "      <td>0.238167</td>\n",
       "      <td>-0.718206</td>\n",
       "    </tr>\n",
       "    <tr>\n",
       "      <th>2015-10-16</th>\n",
       "      <td>0.939105</td>\n",
       "      <td>-1.819067</td>\n",
       "      <td>0.914857</td>\n",
       "      <td>-1.312940</td>\n",
       "      <td>-0.899468</td>\n",
       "      <td>0.551938</td>\n",
       "    </tr>\n",
       "  </tbody>\n",
       "</table>\n",
       "</div>"
      ],
      "text/plain": [
       "                   Q         W         E         R         T         Y\n",
       "2015-10-13 -0.830261 -0.040947  0.401995  0.952608  0.238167 -0.718206\n",
       "2015-10-16  0.939105 -1.819067  0.914857 -1.312940 -0.899468  0.551938"
      ]
     },
     "execution_count": 92,
     "metadata": {},
     "output_type": "execute_result"
    }
   ],
   "source": [
    "# Using a single column’s values to select data\n",
    "df[df.E > 0]"
   ]
  },
  {
   "cell_type": "code",
   "execution_count": null,
   "metadata": {},
   "outputs": [],
   "source": []
  },
  {
   "cell_type": "code",
   "execution_count": null,
   "metadata": {},
   "outputs": [],
   "source": []
  },
  {
   "cell_type": "code",
   "execution_count": null,
   "metadata": {},
   "outputs": [],
   "source": []
  },
  {
   "cell_type": "code",
   "execution_count": null,
   "metadata": {},
   "outputs": [],
   "source": []
  },
  {
   "cell_type": "code",
   "execution_count": null,
   "metadata": {},
   "outputs": [],
   "source": []
  }
 ],
 "metadata": {
  "kernelspec": {
   "display_name": "Python 3",
   "language": "python",
   "name": "python3"
  },
  "language_info": {
   "codemirror_mode": {
    "name": "ipython",
    "version": 3
   },
   "file_extension": ".py",
   "mimetype": "text/x-python",
   "name": "python",
   "nbconvert_exporter": "python",
   "pygments_lexer": "ipython3",
   "version": "3.6.4"
  }
 },
 "nbformat": 4,
 "nbformat_minor": 2
}
